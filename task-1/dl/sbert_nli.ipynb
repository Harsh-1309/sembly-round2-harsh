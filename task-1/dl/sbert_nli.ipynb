{
 "cells": [
  {
   "cell_type": "code",
   "execution_count": 2,
   "id": "4edfb1fa",
   "metadata": {},
   "outputs": [],
   "source": [
    "import pandas as pd\n",
    "from sklearn.metrics.pairwise import cosine_similarity\n",
    "from sklearn.metrics import classification_report\n",
    "from tqdm import tqdm"
   ]
  },
  {
   "cell_type": "code",
   "execution_count": 3,
   "id": "8db9feac",
   "metadata": {},
   "outputs": [],
   "source": [
    "df=pd.read_csv(\"task-1/data/cleaned_data.csv\")\n",
    "y_true=df['is_duplicate']"
   ]
  },
  {
   "cell_type": "code",
   "execution_count": 4,
   "id": "2c503254",
   "metadata": {},
   "outputs": [],
   "source": [
    "question1=df[\"question1\"].tolist()\n",
    "question2=df[\"question2\"].tolist()"
   ]
  },
  {
   "cell_type": "code",
   "execution_count": 5,
   "id": "52012d7b",
   "metadata": {},
   "outputs": [
    {
     "name": "stderr",
     "output_type": "stream",
     "text": [
      "/home/harsh/miniconda3/envs/pyt/lib/python3.10/site-packages/tqdm/auto.py:22: TqdmWarning: IProgress not found. Please update jupyter and ipywidgets. See https://ipywidgets.readthedocs.io/en/stable/user_install.html\n",
      "  from .autonotebook import tqdm as notebook_tqdm\n"
     ]
    }
   ],
   "source": [
    "from sentence_transformers import SentenceTransformer"
   ]
  },
  {
   "cell_type": "markdown",
   "id": "b68919e3",
   "metadata": {},
   "source": [
    "### Use sentence-transformer to download pre-trained model"
   ]
  },
  {
   "cell_type": "code",
   "execution_count": 6,
   "id": "cf7cb685",
   "metadata": {},
   "outputs": [
    {
     "name": "stderr",
     "output_type": "stream",
     "text": [
      "Downloading: 100%|████████████████████████████████████████████| 391/391 [00:00<00:00, 86.8kB/s]\n",
      "Downloading: 100%|█████████████████████████████████████████████| 190/190 [00:00<00:00, 201kB/s]\n",
      "Downloading: 100%|████████████████████████████████████████| 3.95k/3.95k [00:00<00:00, 1.11MB/s]\n",
      "Downloading: 100%|██████████████████████████████████████████| 2.00/2.00 [00:00<00:00, 2.45kB/s]\n",
      "Downloading: 100%|█████████████████████████████████████████████| 625/625 [00:00<00:00, 923kB/s]\n",
      "Downloading: 100%|█████████████████████████████████████████████| 122/122 [00:00<00:00, 140kB/s]\n",
      "Downloading: 100%|██████████████████████████████████████████| 438M/438M [01:01<00:00, 7.09MB/s]\n",
      "Downloading: 100%|██████████████████████████████████████████| 53.0/53.0 [00:00<00:00, 29.1kB/s]\n",
      "Downloading: 100%|████████████████████████████████████████████| 112/112 [00:00<00:00, 50.1kB/s]\n",
      "Downloading: 100%|███████████████████████████████████████████| 466k/466k [00:04<00:00, 114kB/s]\n",
      "Downloading: 100%|█████████████████████████████████████████████| 399/399 [00:00<00:00, 131kB/s]\n",
      "Downloading: 100%|███████████████████████████████████████████| 232k/232k [00:01<00:00, 136kB/s]\n",
      "Downloading: 100%|█████████████████████████████████████████████| 229/229 [00:00<00:00, 102kB/s]\n"
     ]
    }
   ],
   "source": [
    "model = SentenceTransformer('sentence-transformers/bert-base-nli-mean-tokens')"
   ]
  },
  {
   "cell_type": "code",
   "execution_count": 7,
   "id": "715265aa",
   "metadata": {},
   "outputs": [
    {
     "data": {
      "text/plain": [
       "SentenceTransformer(\n",
       "  (0): Transformer({'max_seq_length': 128, 'do_lower_case': False}) with Transformer model: BertModel \n",
       "  (1): Pooling({'word_embedding_dimension': 768, 'pooling_mode_cls_token': False, 'pooling_mode_mean_tokens': True, 'pooling_mode_max_tokens': False, 'pooling_mode_mean_sqrt_len_tokens': False})\n",
       ")"
      ]
     },
     "execution_count": 7,
     "metadata": {},
     "output_type": "execute_result"
    }
   ],
   "source": [
    "model"
   ]
  },
  {
   "cell_type": "markdown",
   "id": "085a41d3",
   "metadata": {},
   "source": [
    "### Get sentence embeddings "
   ]
  },
  {
   "cell_type": "code",
   "execution_count": 9,
   "id": "28aba4fe",
   "metadata": {},
   "outputs": [],
   "source": [
    "q1_vectors=model.encode(question1)"
   ]
  },
  {
   "cell_type": "code",
   "execution_count": 10,
   "id": "6290f71b",
   "metadata": {},
   "outputs": [],
   "source": [
    "q2_vectors=model.encode(question2)"
   ]
  },
  {
   "cell_type": "code",
   "execution_count": 11,
   "id": "0ff522dd",
   "metadata": {},
   "outputs": [],
   "source": [
    "y_pred=[]"
   ]
  },
  {
   "cell_type": "code",
   "execution_count": 12,
   "id": "078c5d25",
   "metadata": {},
   "outputs": [
    {
     "name": "stderr",
     "output_type": "stream",
     "text": [
      "100%|████████████████████████████████████████████████| 404266/404266 [01:38<00:00, 4104.59it/s]\n"
     ]
    }
   ],
   "source": [
    "for i in tqdm(range(len(q1_vectors))):\n",
    "    cosine_sim=float(cosine_similarity([q1_vectors[i]],[q2_vectors[i]]))\n",
    "    if cosine_sim >= 0.5:\n",
    "        y_pred.append(1)\n",
    "    else:\n",
    "        y_pred.append(0)"
   ]
  },
  {
   "cell_type": "code",
   "execution_count": 13,
   "id": "f8120b4d",
   "metadata": {},
   "outputs": [
    {
     "name": "stdout",
     "output_type": "stream",
     "text": [
      "              precision    recall  f1-score   support\n",
      "\n",
      "           0       0.97      0.20      0.33    255003\n",
      "           1       0.42      0.99      0.59    149263\n",
      "\n",
      "    accuracy                           0.49    404266\n",
      "   macro avg       0.70      0.60      0.46    404266\n",
      "weighted avg       0.77      0.49      0.43    404266\n",
      "\n"
     ]
    }
   ],
   "source": [
    "print(classification_report(y_true,y_pred))"
   ]
  }
 ],
 "metadata": {
  "kernelspec": {
   "display_name": "Python 3.8.10 64-bit",
   "language": "python",
   "name": "python3"
  },
  "language_info": {
   "codemirror_mode": {
    "name": "ipython",
    "version": 3
   },
   "file_extension": ".py",
   "mimetype": "text/x-python",
   "name": "python",
   "nbconvert_exporter": "python",
   "pygments_lexer": "ipython3",
   "version": "3.8.10"
  },
  "vscode": {
   "interpreter": {
    "hash": "916dbcbb3f70747c44a77c7bcd40155683ae19c65e1c03b4aa3499c5328201f1"
   }
  }
 },
 "nbformat": 4,
 "nbformat_minor": 5
}
