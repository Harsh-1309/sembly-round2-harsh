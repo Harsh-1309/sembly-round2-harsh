{
 "cells": [
  {
   "cell_type": "code",
   "execution_count": 1,
   "id": "6055fd2b",
   "metadata": {},
   "outputs": [],
   "source": [
    "import pandas as pd\n",
    "import numpy as np\n",
    "# import matplotlib.pyplot as plt\n",
    "import tensorflow as tf\n",
    "import time\n",
    "\n",
    "physical_devices = tf.config.list_physical_devices('GPU')\n",
    "tf.config.experimental.set_memory_growth(physical_devices[0], enable=True)"
   ]
  },
  {
   "cell_type": "code",
   "execution_count": 2,
   "id": "8c4b4979",
   "metadata": {},
   "outputs": [
    {
     "data": {
      "text/plain": [
       "[PhysicalDevice(name='/physical_device:GPU:0', device_type='GPU')]"
      ]
     },
     "execution_count": 2,
     "metadata": {},
     "output_type": "execute_result"
    }
   ],
   "source": [
    "physical_devices"
   ]
  },
  {
   "cell_type": "code",
   "execution_count": 3,
   "id": "c2d1330f",
   "metadata": {},
   "outputs": [],
   "source": [
    "from tensorflow import keras\n",
    "from tensorflow.keras.models import Sequential, load_model\n",
    "from tensorflow.keras.layers import Dense, LSTM, Bidirectional, Embedding, Dropout\n",
    "from tensorflow.keras.preprocessing.text import Tokenizer\n",
    "from tensorflow.keras.preprocessing.sequence import pad_sequences\n",
    "from tensorflow.keras.callbacks import ModelCheckpoint"
   ]
  },
  {
   "cell_type": "code",
   "execution_count": 34,
   "id": "40c7dc40",
   "metadata": {},
   "outputs": [],
   "source": [
    "import re\n",
    "import nltk\n",
    "from nltk.corpus import stopwords\n",
    "from nltk.tokenize import word_tokenize\n",
    "from nltk.stem.lancaster import LancasterStemmer\n",
    "from sklearn.preprocessing import OneHotEncoder\n",
    "from sklearn.metrics import classification_report"
   ]
  },
  {
   "cell_type": "code",
   "execution_count": 5,
   "id": "515e833e",
   "metadata": {},
   "outputs": [],
   "source": [
    "from tqdm import tqdm"
   ]
  },
  {
   "cell_type": "code",
   "execution_count": 6,
   "id": "3d952e8d",
   "metadata": {},
   "outputs": [
    {
     "name": "stdout",
     "output_type": "stream",
     "text": [
      "/home/harsh/projects/sembly-round2-harsh\n"
     ]
    }
   ],
   "source": [
    "cd .."
   ]
  },
  {
   "cell_type": "code",
   "execution_count": 7,
   "id": "513bef36",
   "metadata": {},
   "outputs": [],
   "source": [
    "df=pd.read_csv(\"task-1/data/cleaned_data.csv\")\n",
    "y_true=df['is_duplicate']"
   ]
  },
  {
   "cell_type": "code",
   "execution_count": 8,
   "id": "5bfc9ee7",
   "metadata": {},
   "outputs": [],
   "source": [
    "question1=df[\"question1\"]\n",
    "question2=df[\"question2\"]"
   ]
  },
  {
   "cell_type": "code",
   "execution_count": 9,
   "id": "039af0c0",
   "metadata": {},
   "outputs": [
    {
     "data": {
      "text/plain": [
       "808532"
      ]
     },
     "execution_count": 9,
     "metadata": {},
     "output_type": "execute_result"
    }
   ],
   "source": [
    "all_questions = list(df['question1']) + list(df['question2'])\n",
    "len(all_questions)"
   ]
  },
  {
   "cell_type": "code",
   "execution_count": 10,
   "id": "b11ae03a",
   "metadata": {},
   "outputs": [
    {
     "data": {
      "text/plain": [
       "'what is the story of kohinor  koh i nor  diamond'"
      ]
     },
     "execution_count": 10,
     "metadata": {},
     "output_type": "execute_result"
    }
   ],
   "source": [
    "all_questions[1]"
   ]
  },
  {
   "cell_type": "code",
   "execution_count": 11,
   "id": "e6b6918e",
   "metadata": {},
   "outputs": [],
   "source": [
    "def cleaning(question):\n",
    "    words = []\n",
    "    #clean the questions of all punctuations\n",
    "    for word in tqdm(question):\n",
    "        clean = re.sub(r\"[^a-z A-Z 0-9]\", \" \", word)\n",
    "        clean = word_tokenize(clean)\n",
    "        words.append([i.lower() for i in clean])\n",
    "\n",
    "    return words"
   ]
  },
  {
   "cell_type": "code",
   "execution_count": 12,
   "id": "63034c06",
   "metadata": {},
   "outputs": [
    {
     "name": "stderr",
     "output_type": "stream",
     "text": [
      "100%|██████████████████████████████████████████████| 808532/808532 [01:00<00:00, 13363.80it/s]\n"
     ]
    }
   ],
   "source": [
    "cleaned_words = cleaning(all_questions)"
   ]
  },
  {
   "cell_type": "code",
   "execution_count": 13,
   "id": "1dc46467",
   "metadata": {},
   "outputs": [],
   "source": [
    "def create_tokenizer(cleaned_words, filters='!\"#$%&*+,-./:;<=>?@[\\]^`{|}~'):\n",
    "    #tokenize the cleaned words in questions upto word level \n",
    "    token = Tokenizer(filters=filters)\n",
    "    token.fit_on_texts(cleaned_words)\n",
    "    return token"
   ]
  },
  {
   "cell_type": "code",
   "execution_count": 14,
   "id": "de40d28d",
   "metadata": {},
   "outputs": [],
   "source": [
    "def max_length(cleaned_words):\n",
    "    #get the number of words in longest question\n",
    "    return len(max(cleaned_words, key=len))"
   ]
  },
  {
   "cell_type": "code",
   "execution_count": 15,
   "id": "7bd27e3c",
   "metadata": {},
   "outputs": [],
   "source": [
    "word_tokenizer = create_tokenizer(all_questions)\n",
    "vocab_size = len(word_tokenizer.word_index) + 1\n",
    "max_length = max_length(cleaned_words)"
   ]
  },
  {
   "cell_type": "code",
   "execution_count": 16,
   "id": "ca6ac3bc",
   "metadata": {},
   "outputs": [],
   "source": [
    "def encoding_doc(token, words):\n",
    "    return(token.texts_to_sequences(words))"
   ]
  },
  {
   "cell_type": "code",
   "execution_count": 17,
   "id": "ebd32bd7",
   "metadata": {},
   "outputs": [],
   "source": [
    "encoded_doc = encoding_doc(word_tokenizer, cleaned_words)"
   ]
  },
  {
   "cell_type": "code",
   "execution_count": 18,
   "id": "42c696bb",
   "metadata": {},
   "outputs": [],
   "source": [
    "def padding_doc(encoded_doc, max_length):\n",
    "    return(pad_sequences(encoded_doc, maxlen = max_length, padding = \"post\"))"
   ]
  },
  {
   "cell_type": "code",
   "execution_count": 19,
   "id": "6ee58051",
   "metadata": {},
   "outputs": [],
   "source": [
    "padded_doc = padding_doc(encoded_doc, max_length)"
   ]
  },
  {
   "cell_type": "code",
   "execution_count": 20,
   "id": "79ead67b",
   "metadata": {},
   "outputs": [
    {
     "data": {
      "text/plain": [
       "int"
      ]
     },
     "execution_count": 20,
     "metadata": {},
     "output_type": "execute_result"
    }
   ],
   "source": [
    "type(len(padded_doc))"
   ]
  },
  {
   "cell_type": "code",
   "execution_count": 21,
   "id": "e42a9bb4",
   "metadata": {},
   "outputs": [],
   "source": [
    "question1_vectors=padded_doc[:int(len(padded_doc)/2)]\n",
    "question2_vectors=padded_doc[int(len(padded_doc)/2):]"
   ]
  },
  {
   "cell_type": "code",
   "execution_count": 22,
   "id": "4ffde481",
   "metadata": {},
   "outputs": [],
   "source": [
    "x=np.hstack((question1_vectors[:],question2_vectors[:]))"
   ]
  },
  {
   "cell_type": "code",
   "execution_count": 23,
   "id": "c424ab5d",
   "metadata": {},
   "outputs": [
    {
     "data": {
      "text/plain": [
       "(404266, 494)"
      ]
     },
     "execution_count": 23,
     "metadata": {},
     "output_type": "execute_result"
    }
   ],
   "source": [
    "x.shape"
   ]
  },
  {
   "cell_type": "code",
   "execution_count": 24,
   "id": "b1cf3c65",
   "metadata": {},
   "outputs": [],
   "source": [
    "from sklearn.model_selection import train_test_split"
   ]
  },
  {
   "cell_type": "code",
   "execution_count": 25,
   "id": "d508169c",
   "metadata": {},
   "outputs": [],
   "source": [
    "x_train, x_val, y_train, y_val = train_test_split(x, y_true, shuffle = True, test_size = 0.25, random_state=23)"
   ]
  },
  {
   "cell_type": "code",
   "execution_count": 26,
   "id": "904cd0da",
   "metadata": {},
   "outputs": [
    {
     "name": "stdout",
     "output_type": "stream",
     "text": [
      "Shape of train_X = (303199, 494) and train_Y = (303199,)\n",
      "Shape of val_X = (101067, 494) and val_Y = (101067,)\n"
     ]
    }
   ],
   "source": [
    "print(\"Shape of train_X = %s and train_Y = %s\" % (x_train.shape, y_train.shape))\n",
    "print(\"Shape of val_X = %s and val_Y = %s\" % (x_val.shape, y_val.shape))"
   ]
  },
  {
   "cell_type": "code",
   "execution_count": 27,
   "id": "af8ea6b2",
   "metadata": {},
   "outputs": [
    {
     "name": "stderr",
     "output_type": "stream",
     "text": [
      "2022-12-08 13:30:04.003157: I tensorflow/core/platform/cpu_feature_guard.cc:193] This TensorFlow binary is optimized with oneAPI Deep Neural Network Library (oneDNN) to use the following CPU instructions in performance-critical operations:  AVX2 FMA\n",
      "To enable them in other operations, rebuild TensorFlow with the appropriate compiler flags.\n",
      "2022-12-08 13:30:04.456154: I tensorflow/core/common_runtime/gpu/gpu_device.cc:1532] Created device /job:localhost/replica:0/task:0/device:GPU:0 with 4632 MB memory:  -> device: 0, name: NVIDIA GeForce RTX 2060, pci bus id: 0000:01:00.0, compute capability: 7.5\n"
     ]
    }
   ],
   "source": [
    "model=Sequential()\n",
    "model.add(Embedding(vocab_size, 128, input_length = max_length*2, trainable = False))\n",
    "#model.add(Bidirectional(LSTM(128,return_sequences=True)))\n",
    "model.add(Bidirectional(LSTM(128)))\n",
    "model.add(Dense(64, activation = \"relu\"))    \n",
    "model.add(Dropout(0.2))\n",
    "model.add(Dense(32, activation = \"relu\"))    \n",
    "model.add(Dense(16, activation = \"relu\")) \n",
    "model.add(Dense(1, activation = \"sigmoid\"))"
   ]
  },
  {
   "cell_type": "code",
   "execution_count": 28,
   "id": "eb6577cd",
   "metadata": {},
   "outputs": [],
   "source": [
    "callbacks = [\n",
    "        tf.keras.callbacks.EarlyStopping(\n",
    "            monitor='val_accuracy',\n",
    "            min_delta=1e-5,\n",
    "            patience=10,\n",
    "            verbose=1\n",
    "        ),\n",
    "        tf.keras.callbacks.ModelCheckpoint(\n",
    "            filepath=\"task-1/saved_models/tf_model/lstm\",\n",
    "            monitor='val_loss', \n",
    "            mode='min', \n",
    "            save_best_only=True,\n",
    "            verbose=1\n",
    "        ),\n",
    "        tf.keras.callbacks.ReduceLROnPlateau(\n",
    "            monitor='val_loss', \n",
    "            factor=0.2,\n",
    "            patience=4, \n",
    "            min_lr=0.001)\n",
    "    \n",
    "]\n",
    "\n",
    "# optimizer = tf.keras.optimizers.Adam(1e-5)\n",
    "# loss = tf.keras.losses.BinaryCrossentropy()\n",
    "# acc = tf.keras.metrics.Accuracy()"
   ]
  },
  {
   "cell_type": "code",
   "execution_count": 29,
   "id": "0370d592",
   "metadata": {},
   "outputs": [],
   "source": [
    "model.compile(loss = \"binary_crossentropy\", optimizer = \"adam\", metrics = [\"accuracy\"])"
   ]
  },
  {
   "cell_type": "code",
   "execution_count": 30,
   "id": "c4b553f0",
   "metadata": {
    "scrolled": true
   },
   "outputs": [
    {
     "name": "stdout",
     "output_type": "stream",
     "text": [
      "Epoch 1/30\n"
     ]
    },
    {
     "name": "stderr",
     "output_type": "stream",
     "text": [
      "2022-12-08 13:30:04.838852: W tensorflow/core/framework/cpu_allocator_impl.cc:82] Allocation of 599121224 exceeds 10% of free system memory.\n",
      "2022-12-08 13:30:07.613924: I tensorflow/stream_executor/cuda/cuda_dnn.cc:384] Loaded cuDNN version 8401\n"
     ]
    },
    {
     "name": "stdout",
     "output_type": "stream",
     "text": [
      "1185/1185 [==============================] - ETA: 0s - loss: 0.6149 - accuracy: 0.6592\n",
      "Epoch 1: val_loss improved from inf to 0.59860, saving model to task-1/saved_models/tf_model/lstm\n"
     ]
    },
    {
     "name": "stderr",
     "output_type": "stream",
     "text": [
      "WARNING:absl:Found untraced functions such as lstm_cell_1_layer_call_fn, lstm_cell_1_layer_call_and_return_conditional_losses, lstm_cell_2_layer_call_fn, lstm_cell_2_layer_call_and_return_conditional_losses while saving (showing 4 of 4). These functions will not be directly callable after loading.\n"
     ]
    },
    {
     "name": "stdout",
     "output_type": "stream",
     "text": [
      "INFO:tensorflow:Assets written to: task-1/saved_models/tf_model/lstm/assets\n"
     ]
    },
    {
     "name": "stderr",
     "output_type": "stream",
     "text": [
      "INFO:tensorflow:Assets written to: task-1/saved_models/tf_model/lstm/assets\n"
     ]
    },
    {
     "name": "stdout",
     "output_type": "stream",
     "text": [
      "1185/1185 [==============================] - 190s 158ms/step - loss: 0.6149 - accuracy: 0.6592 - val_loss: 0.5986 - val_accuracy: 0.6761 - lr: 0.0010\n",
      "Epoch 2/30\n",
      "1185/1185 [==============================] - ETA: 0s - loss: 0.5941 - accuracy: 0.6803\n",
      "Epoch 2: val_loss improved from 0.59860 to 0.58600, saving model to task-1/saved_models/tf_model/lstm\n"
     ]
    },
    {
     "name": "stderr",
     "output_type": "stream",
     "text": [
      "WARNING:absl:Found untraced functions such as lstm_cell_1_layer_call_fn, lstm_cell_1_layer_call_and_return_conditional_losses, lstm_cell_2_layer_call_fn, lstm_cell_2_layer_call_and_return_conditional_losses while saving (showing 4 of 4). These functions will not be directly callable after loading.\n"
     ]
    },
    {
     "name": "stdout",
     "output_type": "stream",
     "text": [
      "INFO:tensorflow:Assets written to: task-1/saved_models/tf_model/lstm/assets\n"
     ]
    },
    {
     "name": "stderr",
     "output_type": "stream",
     "text": [
      "INFO:tensorflow:Assets written to: task-1/saved_models/tf_model/lstm/assets\n"
     ]
    },
    {
     "name": "stdout",
     "output_type": "stream",
     "text": [
      "1185/1185 [==============================] - 206s 174ms/step - loss: 0.5941 - accuracy: 0.6803 - val_loss: 0.5860 - val_accuracy: 0.6908 - lr: 0.0010\n",
      "Epoch 3/30\n",
      "1185/1185 [==============================] - ETA: 0s - loss: 0.5818 - accuracy: 0.6946\n",
      "Epoch 3: val_loss improved from 0.58600 to 0.57459, saving model to task-1/saved_models/tf_model/lstm\n"
     ]
    },
    {
     "name": "stderr",
     "output_type": "stream",
     "text": [
      "WARNING:absl:Found untraced functions such as lstm_cell_1_layer_call_fn, lstm_cell_1_layer_call_and_return_conditional_losses, lstm_cell_2_layer_call_fn, lstm_cell_2_layer_call_and_return_conditional_losses while saving (showing 4 of 4). These functions will not be directly callable after loading.\n"
     ]
    },
    {
     "name": "stdout",
     "output_type": "stream",
     "text": [
      "INFO:tensorflow:Assets written to: task-1/saved_models/tf_model/lstm/assets\n"
     ]
    },
    {
     "name": "stderr",
     "output_type": "stream",
     "text": [
      "INFO:tensorflow:Assets written to: task-1/saved_models/tf_model/lstm/assets\n"
     ]
    },
    {
     "name": "stdout",
     "output_type": "stream",
     "text": [
      "1185/1185 [==============================] - 205s 173ms/step - loss: 0.5818 - accuracy: 0.6946 - val_loss: 0.5746 - val_accuracy: 0.6994 - lr: 0.0010\n",
      "Epoch 4/30\n",
      "1185/1185 [==============================] - ETA: 0s - loss: 0.5713 - accuracy: 0.7027\n",
      "Epoch 4: val_loss improved from 0.57459 to 0.57064, saving model to task-1/saved_models/tf_model/lstm\n"
     ]
    },
    {
     "name": "stderr",
     "output_type": "stream",
     "text": [
      "WARNING:absl:Found untraced functions such as lstm_cell_1_layer_call_fn, lstm_cell_1_layer_call_and_return_conditional_losses, lstm_cell_2_layer_call_fn, lstm_cell_2_layer_call_and_return_conditional_losses while saving (showing 4 of 4). These functions will not be directly callable after loading.\n"
     ]
    },
    {
     "name": "stdout",
     "output_type": "stream",
     "text": [
      "INFO:tensorflow:Assets written to: task-1/saved_models/tf_model/lstm/assets\n"
     ]
    },
    {
     "name": "stderr",
     "output_type": "stream",
     "text": [
      "INFO:tensorflow:Assets written to: task-1/saved_models/tf_model/lstm/assets\n"
     ]
    },
    {
     "name": "stdout",
     "output_type": "stream",
     "text": [
      "1185/1185 [==============================] - 206s 174ms/step - loss: 0.5713 - accuracy: 0.7027 - val_loss: 0.5706 - val_accuracy: 0.7025 - lr: 0.0010\n",
      "Epoch 5/30\n",
      "1185/1185 [==============================] - ETA: 0s - loss: 0.5621 - accuracy: 0.7108\n",
      "Epoch 5: val_loss improved from 0.57064 to 0.56133, saving model to task-1/saved_models/tf_model/lstm\n"
     ]
    },
    {
     "name": "stderr",
     "output_type": "stream",
     "text": [
      "WARNING:absl:Found untraced functions such as lstm_cell_1_layer_call_fn, lstm_cell_1_layer_call_and_return_conditional_losses, lstm_cell_2_layer_call_fn, lstm_cell_2_layer_call_and_return_conditional_losses while saving (showing 4 of 4). These functions will not be directly callable after loading.\n"
     ]
    },
    {
     "name": "stdout",
     "output_type": "stream",
     "text": [
      "INFO:tensorflow:Assets written to: task-1/saved_models/tf_model/lstm/assets\n"
     ]
    },
    {
     "name": "stderr",
     "output_type": "stream",
     "text": [
      "INFO:tensorflow:Assets written to: task-1/saved_models/tf_model/lstm/assets\n"
     ]
    },
    {
     "name": "stdout",
     "output_type": "stream",
     "text": [
      "1185/1185 [==============================] - 207s 175ms/step - loss: 0.5621 - accuracy: 0.7108 - val_loss: 0.5613 - val_accuracy: 0.7113 - lr: 0.0010\n",
      "Epoch 6/30\n",
      "1185/1185 [==============================] - ETA: 0s - loss: 0.5550 - accuracy: 0.7175\n",
      "Epoch 6: val_loss improved from 0.56133 to 0.55334, saving model to task-1/saved_models/tf_model/lstm\n"
     ]
    },
    {
     "name": "stderr",
     "output_type": "stream",
     "text": [
      "WARNING:absl:Found untraced functions such as lstm_cell_1_layer_call_fn, lstm_cell_1_layer_call_and_return_conditional_losses, lstm_cell_2_layer_call_fn, lstm_cell_2_layer_call_and_return_conditional_losses while saving (showing 4 of 4). These functions will not be directly callable after loading.\n"
     ]
    },
    {
     "name": "stdout",
     "output_type": "stream",
     "text": [
      "INFO:tensorflow:Assets written to: task-1/saved_models/tf_model/lstm/assets\n"
     ]
    },
    {
     "name": "stderr",
     "output_type": "stream",
     "text": [
      "INFO:tensorflow:Assets written to: task-1/saved_models/tf_model/lstm/assets\n"
     ]
    },
    {
     "name": "stdout",
     "output_type": "stream",
     "text": [
      "1185/1185 [==============================] - 203s 171ms/step - loss: 0.5550 - accuracy: 0.7175 - val_loss: 0.5533 - val_accuracy: 0.7194 - lr: 0.0010\n",
      "Epoch 7/30\n",
      "1185/1185 [==============================] - ETA: 0s - loss: 0.5488 - accuracy: 0.7220\n",
      "Epoch 7: val_loss improved from 0.55334 to 0.54888, saving model to task-1/saved_models/tf_model/lstm\n"
     ]
    },
    {
     "name": "stderr",
     "output_type": "stream",
     "text": [
      "WARNING:absl:Found untraced functions such as lstm_cell_1_layer_call_fn, lstm_cell_1_layer_call_and_return_conditional_losses, lstm_cell_2_layer_call_fn, lstm_cell_2_layer_call_and_return_conditional_losses while saving (showing 4 of 4). These functions will not be directly callable after loading.\n"
     ]
    },
    {
     "name": "stdout",
     "output_type": "stream",
     "text": [
      "INFO:tensorflow:Assets written to: task-1/saved_models/tf_model/lstm/assets\n"
     ]
    },
    {
     "name": "stderr",
     "output_type": "stream",
     "text": [
      "INFO:tensorflow:Assets written to: task-1/saved_models/tf_model/lstm/assets\n"
     ]
    },
    {
     "name": "stdout",
     "output_type": "stream",
     "text": [
      "1185/1185 [==============================] - 201s 170ms/step - loss: 0.5488 - accuracy: 0.7220 - val_loss: 0.5489 - val_accuracy: 0.7233 - lr: 0.0010\n",
      "Epoch 8/30\n",
      "1185/1185 [==============================] - ETA: 0s - loss: 0.5423 - accuracy: 0.7264\n",
      "Epoch 8: val_loss improved from 0.54888 to 0.54759, saving model to task-1/saved_models/tf_model/lstm\n"
     ]
    },
    {
     "name": "stderr",
     "output_type": "stream",
     "text": [
      "WARNING:absl:Found untraced functions such as lstm_cell_1_layer_call_fn, lstm_cell_1_layer_call_and_return_conditional_losses, lstm_cell_2_layer_call_fn, lstm_cell_2_layer_call_and_return_conditional_losses while saving (showing 4 of 4). These functions will not be directly callable after loading.\n"
     ]
    },
    {
     "name": "stdout",
     "output_type": "stream",
     "text": [
      "INFO:tensorflow:Assets written to: task-1/saved_models/tf_model/lstm/assets\n"
     ]
    },
    {
     "name": "stderr",
     "output_type": "stream",
     "text": [
      "INFO:tensorflow:Assets written to: task-1/saved_models/tf_model/lstm/assets\n"
     ]
    },
    {
     "name": "stdout",
     "output_type": "stream",
     "text": [
      "1185/1185 [==============================] - 203s 171ms/step - loss: 0.5423 - accuracy: 0.7264 - val_loss: 0.5476 - val_accuracy: 0.7249 - lr: 0.0010\n",
      "Epoch 9/30\n",
      "1185/1185 [==============================] - ETA: 0s - loss: 0.5369 - accuracy: 0.7311\n",
      "Epoch 9: val_loss improved from 0.54759 to 0.54227, saving model to task-1/saved_models/tf_model/lstm\n"
     ]
    },
    {
     "name": "stderr",
     "output_type": "stream",
     "text": [
      "WARNING:absl:Found untraced functions such as lstm_cell_1_layer_call_fn, lstm_cell_1_layer_call_and_return_conditional_losses, lstm_cell_2_layer_call_fn, lstm_cell_2_layer_call_and_return_conditional_losses while saving (showing 4 of 4). These functions will not be directly callable after loading.\n"
     ]
    },
    {
     "name": "stdout",
     "output_type": "stream",
     "text": [
      "INFO:tensorflow:Assets written to: task-1/saved_models/tf_model/lstm/assets\n"
     ]
    },
    {
     "name": "stderr",
     "output_type": "stream",
     "text": [
      "INFO:tensorflow:Assets written to: task-1/saved_models/tf_model/lstm/assets\n"
     ]
    },
    {
     "name": "stdout",
     "output_type": "stream",
     "text": [
      "1185/1185 [==============================] - 202s 171ms/step - loss: 0.5369 - accuracy: 0.7311 - val_loss: 0.5423 - val_accuracy: 0.7292 - lr: 0.0010\n",
      "Epoch 10/30\n",
      "1185/1185 [==============================] - ETA: 0s - loss: 0.5312 - accuracy: 0.7356\n",
      "Epoch 10: val_loss improved from 0.54227 to 0.54114, saving model to task-1/saved_models/tf_model/lstm\n"
     ]
    },
    {
     "name": "stderr",
     "output_type": "stream",
     "text": [
      "WARNING:absl:Found untraced functions such as lstm_cell_1_layer_call_fn, lstm_cell_1_layer_call_and_return_conditional_losses, lstm_cell_2_layer_call_fn, lstm_cell_2_layer_call_and_return_conditional_losses while saving (showing 4 of 4). These functions will not be directly callable after loading.\n"
     ]
    },
    {
     "name": "stdout",
     "output_type": "stream",
     "text": [
      "INFO:tensorflow:Assets written to: task-1/saved_models/tf_model/lstm/assets\n"
     ]
    },
    {
     "name": "stderr",
     "output_type": "stream",
     "text": [
      "INFO:tensorflow:Assets written to: task-1/saved_models/tf_model/lstm/assets\n"
     ]
    },
    {
     "name": "stdout",
     "output_type": "stream",
     "text": [
      "1185/1185 [==============================] - 202s 171ms/step - loss: 0.5312 - accuracy: 0.7356 - val_loss: 0.5411 - val_accuracy: 0.7295 - lr: 0.0010\n",
      "Epoch 11/30\n",
      "1185/1185 [==============================] - ETA: 0s - loss: 0.5260 - accuracy: 0.7391\n",
      "Epoch 11: val_loss improved from 0.54114 to 0.53672, saving model to task-1/saved_models/tf_model/lstm\n"
     ]
    },
    {
     "name": "stderr",
     "output_type": "stream",
     "text": [
      "WARNING:absl:Found untraced functions such as lstm_cell_1_layer_call_fn, lstm_cell_1_layer_call_and_return_conditional_losses, lstm_cell_2_layer_call_fn, lstm_cell_2_layer_call_and_return_conditional_losses while saving (showing 4 of 4). These functions will not be directly callable after loading.\n"
     ]
    },
    {
     "name": "stdout",
     "output_type": "stream",
     "text": [
      "INFO:tensorflow:Assets written to: task-1/saved_models/tf_model/lstm/assets\n"
     ]
    },
    {
     "name": "stderr",
     "output_type": "stream",
     "text": [
      "INFO:tensorflow:Assets written to: task-1/saved_models/tf_model/lstm/assets\n"
     ]
    },
    {
     "name": "stdout",
     "output_type": "stream",
     "text": [
      "1185/1185 [==============================] - 201s 169ms/step - loss: 0.5260 - accuracy: 0.7391 - val_loss: 0.5367 - val_accuracy: 0.7336 - lr: 0.0010\n",
      "Epoch 12/30\n",
      "1185/1185 [==============================] - ETA: 0s - loss: 0.5212 - accuracy: 0.7421\n",
      "Epoch 12: val_loss improved from 0.53672 to 0.53470, saving model to task-1/saved_models/tf_model/lstm\n"
     ]
    },
    {
     "name": "stderr",
     "output_type": "stream",
     "text": [
      "WARNING:absl:Found untraced functions such as lstm_cell_1_layer_call_fn, lstm_cell_1_layer_call_and_return_conditional_losses, lstm_cell_2_layer_call_fn, lstm_cell_2_layer_call_and_return_conditional_losses while saving (showing 4 of 4). These functions will not be directly callable after loading.\n"
     ]
    },
    {
     "name": "stdout",
     "output_type": "stream",
     "text": [
      "INFO:tensorflow:Assets written to: task-1/saved_models/tf_model/lstm/assets\n"
     ]
    },
    {
     "name": "stderr",
     "output_type": "stream",
     "text": [
      "INFO:tensorflow:Assets written to: task-1/saved_models/tf_model/lstm/assets\n"
     ]
    },
    {
     "name": "stdout",
     "output_type": "stream",
     "text": [
      "1185/1185 [==============================] - 199s 168ms/step - loss: 0.5212 - accuracy: 0.7421 - val_loss: 0.5347 - val_accuracy: 0.7322 - lr: 0.0010\n",
      "Epoch 13/30\n",
      "1185/1185 [==============================] - ETA: 0s - loss: 0.5157 - accuracy: 0.7461\n",
      "Epoch 13: val_loss did not improve from 0.53470\n",
      "1185/1185 [==============================] - 191s 161ms/step - loss: 0.5157 - accuracy: 0.7461 - val_loss: 0.5349 - val_accuracy: 0.7335 - lr: 0.0010\n",
      "Epoch 14/30\n",
      "1185/1185 [==============================] - ETA: 0s - loss: 0.5107 - accuracy: 0.7493\n",
      "Epoch 14: val_loss improved from 0.53470 to 0.53146, saving model to task-1/saved_models/tf_model/lstm\n"
     ]
    },
    {
     "name": "stderr",
     "output_type": "stream",
     "text": [
      "WARNING:absl:Found untraced functions such as lstm_cell_1_layer_call_fn, lstm_cell_1_layer_call_and_return_conditional_losses, lstm_cell_2_layer_call_fn, lstm_cell_2_layer_call_and_return_conditional_losses while saving (showing 4 of 4). These functions will not be directly callable after loading.\n"
     ]
    },
    {
     "name": "stdout",
     "output_type": "stream",
     "text": [
      "INFO:tensorflow:Assets written to: task-1/saved_models/tf_model/lstm/assets\n"
     ]
    },
    {
     "name": "stderr",
     "output_type": "stream",
     "text": [
      "INFO:tensorflow:Assets written to: task-1/saved_models/tf_model/lstm/assets\n"
     ]
    },
    {
     "name": "stdout",
     "output_type": "stream",
     "text": [
      "1185/1185 [==============================] - 202s 170ms/step - loss: 0.5107 - accuracy: 0.7493 - val_loss: 0.5315 - val_accuracy: 0.7380 - lr: 0.0010\n",
      "Epoch 15/30\n",
      "1185/1185 [==============================] - ETA: 0s - loss: 0.5057 - accuracy: 0.7523\n",
      "Epoch 15: val_loss improved from 0.53146 to 0.52809, saving model to task-1/saved_models/tf_model/lstm\n"
     ]
    },
    {
     "name": "stderr",
     "output_type": "stream",
     "text": [
      "WARNING:absl:Found untraced functions such as lstm_cell_1_layer_call_fn, lstm_cell_1_layer_call_and_return_conditional_losses, lstm_cell_2_layer_call_fn, lstm_cell_2_layer_call_and_return_conditional_losses while saving (showing 4 of 4). These functions will not be directly callable after loading.\n"
     ]
    },
    {
     "name": "stdout",
     "output_type": "stream",
     "text": [
      "INFO:tensorflow:Assets written to: task-1/saved_models/tf_model/lstm/assets\n"
     ]
    },
    {
     "name": "stderr",
     "output_type": "stream",
     "text": [
      "INFO:tensorflow:Assets written to: task-1/saved_models/tf_model/lstm/assets\n"
     ]
    },
    {
     "name": "stdout",
     "output_type": "stream",
     "text": [
      "1185/1185 [==============================] - 199s 168ms/step - loss: 0.5057 - accuracy: 0.7523 - val_loss: 0.5281 - val_accuracy: 0.7390 - lr: 0.0010\n",
      "Epoch 16/30\n",
      "1185/1185 [==============================] - ETA: 0s - loss: 0.5012 - accuracy: 0.7559\n",
      "Epoch 16: val_loss did not improve from 0.52809\n",
      "1185/1185 [==============================] - 192s 162ms/step - loss: 0.5012 - accuracy: 0.7559 - val_loss: 0.5289 - val_accuracy: 0.7396 - lr: 0.0010\n",
      "Epoch 17/30\n",
      "1185/1185 [==============================] - ETA: 0s - loss: 0.4968 - accuracy: 0.7587\n",
      "Epoch 17: val_loss improved from 0.52809 to 0.52684, saving model to task-1/saved_models/tf_model/lstm\n"
     ]
    },
    {
     "name": "stderr",
     "output_type": "stream",
     "text": [
      "WARNING:absl:Found untraced functions such as lstm_cell_1_layer_call_fn, lstm_cell_1_layer_call_and_return_conditional_losses, lstm_cell_2_layer_call_fn, lstm_cell_2_layer_call_and_return_conditional_losses while saving (showing 4 of 4). These functions will not be directly callable after loading.\n"
     ]
    },
    {
     "name": "stdout",
     "output_type": "stream",
     "text": [
      "INFO:tensorflow:Assets written to: task-1/saved_models/tf_model/lstm/assets\n"
     ]
    },
    {
     "name": "stderr",
     "output_type": "stream",
     "text": [
      "INFO:tensorflow:Assets written to: task-1/saved_models/tf_model/lstm/assets\n"
     ]
    },
    {
     "name": "stdout",
     "output_type": "stream",
     "text": [
      "1185/1185 [==============================] - 201s 169ms/step - loss: 0.4968 - accuracy: 0.7587 - val_loss: 0.5268 - val_accuracy: 0.7405 - lr: 0.0010\n",
      "Epoch 18/30\n",
      "1185/1185 [==============================] - ETA: 0s - loss: 0.4919 - accuracy: 0.7612\n",
      "Epoch 18: val_loss improved from 0.52684 to 0.52514, saving model to task-1/saved_models/tf_model/lstm\n"
     ]
    },
    {
     "name": "stderr",
     "output_type": "stream",
     "text": [
      "WARNING:absl:Found untraced functions such as lstm_cell_1_layer_call_fn, lstm_cell_1_layer_call_and_return_conditional_losses, lstm_cell_2_layer_call_fn, lstm_cell_2_layer_call_and_return_conditional_losses while saving (showing 4 of 4). These functions will not be directly callable after loading.\n"
     ]
    },
    {
     "name": "stdout",
     "output_type": "stream",
     "text": [
      "INFO:tensorflow:Assets written to: task-1/saved_models/tf_model/lstm/assets\n"
     ]
    },
    {
     "name": "stderr",
     "output_type": "stream",
     "text": [
      "INFO:tensorflow:Assets written to: task-1/saved_models/tf_model/lstm/assets\n"
     ]
    },
    {
     "name": "stdout",
     "output_type": "stream",
     "text": [
      "1185/1185 [==============================] - 199s 168ms/step - loss: 0.4919 - accuracy: 0.7612 - val_loss: 0.5251 - val_accuracy: 0.7413 - lr: 0.0010\n",
      "Epoch 19/30\n",
      "1185/1185 [==============================] - ETA: 0s - loss: 0.4867 - accuracy: 0.7651\n",
      "Epoch 19: val_loss did not improve from 0.52514\n",
      "1185/1185 [==============================] - 192s 162ms/step - loss: 0.4867 - accuracy: 0.7651 - val_loss: 0.5259 - val_accuracy: 0.7432 - lr: 0.0010\n",
      "Epoch 20/30\n",
      "1185/1185 [==============================] - ETA: 0s - loss: 0.4849 - accuracy: 0.7661\n",
      "Epoch 20: val_loss improved from 0.52514 to 0.52474, saving model to task-1/saved_models/tf_model/lstm\n"
     ]
    },
    {
     "name": "stderr",
     "output_type": "stream",
     "text": [
      "WARNING:absl:Found untraced functions such as lstm_cell_1_layer_call_fn, lstm_cell_1_layer_call_and_return_conditional_losses, lstm_cell_2_layer_call_fn, lstm_cell_2_layer_call_and_return_conditional_losses while saving (showing 4 of 4). These functions will not be directly callable after loading.\n"
     ]
    },
    {
     "name": "stdout",
     "output_type": "stream",
     "text": [
      "INFO:tensorflow:Assets written to: task-1/saved_models/tf_model/lstm/assets\n"
     ]
    },
    {
     "name": "stderr",
     "output_type": "stream",
     "text": [
      "INFO:tensorflow:Assets written to: task-1/saved_models/tf_model/lstm/assets\n"
     ]
    },
    {
     "name": "stdout",
     "output_type": "stream",
     "text": [
      "1185/1185 [==============================] - 201s 170ms/step - loss: 0.4849 - accuracy: 0.7661 - val_loss: 0.5247 - val_accuracy: 0.7448 - lr: 0.0010\n",
      "Epoch 21/30\n",
      "1185/1185 [==============================] - ETA: 0s - loss: 0.4791 - accuracy: 0.7702\n",
      "Epoch 21: val_loss did not improve from 0.52474\n",
      "1185/1185 [==============================] - 191s 161ms/step - loss: 0.4791 - accuracy: 0.7702 - val_loss: 0.5248 - val_accuracy: 0.7460 - lr: 0.0010\n",
      "Epoch 22/30\n",
      "1185/1185 [==============================] - ETA: 0s - loss: 0.4739 - accuracy: 0.7735\n",
      "Epoch 22: val_loss did not improve from 0.52474\n",
      "1185/1185 [==============================] - 194s 164ms/step - loss: 0.4739 - accuracy: 0.7735 - val_loss: 0.5254 - val_accuracy: 0.7463 - lr: 0.0010\n",
      "Epoch 23/30\n",
      "1185/1185 [==============================] - ETA: 0s - loss: 0.4702 - accuracy: 0.7760\n",
      "Epoch 23: val_loss did not improve from 0.52474\n",
      "1185/1185 [==============================] - 192s 162ms/step - loss: 0.4702 - accuracy: 0.7760 - val_loss: 0.5284 - val_accuracy: 0.7483 - lr: 0.0010\n",
      "Epoch 24/30\n",
      "1185/1185 [==============================] - ETA: 0s - loss: 0.4659 - accuracy: 0.7786\n",
      "Epoch 24: val_loss did not improve from 0.52474\n",
      "1185/1185 [==============================] - 193s 163ms/step - loss: 0.4659 - accuracy: 0.7786 - val_loss: 0.5301 - val_accuracy: 0.7430 - lr: 0.0010\n",
      "Epoch 25/30\n",
      "1185/1185 [==============================] - ETA: 0s - loss: 0.4609 - accuracy: 0.7817\n",
      "Epoch 25: val_loss did not improve from 0.52474\n",
      "1185/1185 [==============================] - 193s 163ms/step - loss: 0.4609 - accuracy: 0.7817 - val_loss: 0.5300 - val_accuracy: 0.7442 - lr: 0.0010\n",
      "Epoch 26/30\n",
      "1185/1185 [==============================] - ETA: 0s - loss: 0.4570 - accuracy: 0.7841\n",
      "Epoch 26: val_loss did not improve from 0.52474\n",
      "1185/1185 [==============================] - 192s 162ms/step - loss: 0.4570 - accuracy: 0.7841 - val_loss: 0.5285 - val_accuracy: 0.7479 - lr: 0.0010\n",
      "Epoch 27/30\n",
      "1185/1185 [==============================] - ETA: 0s - loss: 0.4522 - accuracy: 0.7861\n",
      "Epoch 27: val_loss did not improve from 0.52474\n",
      "1185/1185 [==============================] - 193s 163ms/step - loss: 0.4522 - accuracy: 0.7861 - val_loss: 0.5291 - val_accuracy: 0.7491 - lr: 0.0010\n",
      "Epoch 28/30\n",
      "1185/1185 [==============================] - ETA: 0s - loss: 0.4491 - accuracy: 0.7888\n",
      "Epoch 28: val_loss did not improve from 0.52474\n",
      "1185/1185 [==============================] - 193s 163ms/step - loss: 0.4491 - accuracy: 0.7888 - val_loss: 0.5264 - val_accuracy: 0.7487 - lr: 0.0010\n",
      "Epoch 29/30\n",
      "1185/1185 [==============================] - ETA: 0s - loss: 0.4449 - accuracy: 0.7913\n",
      "Epoch 29: val_loss did not improve from 0.52474\n",
      "1185/1185 [==============================] - 193s 163ms/step - loss: 0.4449 - accuracy: 0.7913 - val_loss: 0.5371 - val_accuracy: 0.7487 - lr: 0.0010\n",
      "Epoch 30/30\n",
      "1185/1185 [==============================] - ETA: 0s - loss: 0.4402 - accuracy: 0.7940\n",
      "Epoch 30: val_loss did not improve from 0.52474\n",
      "1185/1185 [==============================] - 194s 164ms/step - loss: 0.4402 - accuracy: 0.7940 - val_loss: 0.5255 - val_accuracy: 0.7504 - lr: 0.0010\n"
     ]
    }
   ],
   "source": [
    "history = model.fit(x_train, y_train, epochs = 30, batch_size = 256, validation_data= (x_val, y_val), callbacks=callbacks, verbose=1)"
   ]
  },
  {
   "cell_type": "code",
   "execution_count": 31,
   "id": "f375667e",
   "metadata": {
    "scrolled": false
   },
   "outputs": [
    {
     "name": "stdout",
     "output_type": "stream",
     "text": [
      "Model: \"sequential\"\n",
      "_________________________________________________________________\n",
      " Layer (type)                Output Shape              Param #   \n",
      "=================================================================\n",
      " embedding (Embedding)       (None, 494, 128)          10616320  \n",
      "                                                                 \n",
      " bidirectional (Bidirectiona  (None, 256)              263168    \n",
      " l)                                                              \n",
      "                                                                 \n",
      " dense (Dense)               (None, 64)                16448     \n",
      "                                                                 \n",
      " dropout (Dropout)           (None, 64)                0         \n",
      "                                                                 \n",
      " dense_1 (Dense)             (None, 32)                2080      \n",
      "                                                                 \n",
      " dense_2 (Dense)             (None, 16)                528       \n",
      "                                                                 \n",
      " dense_3 (Dense)             (None, 1)                 17        \n",
      "                                                                 \n",
      "=================================================================\n",
      "Total params: 10,898,561\n",
      "Trainable params: 282,241\n",
      "Non-trainable params: 10,616,320\n",
      "_________________________________________________________________\n"
     ]
    }
   ],
   "source": [
    "model.summary()"
   ]
  },
  {
   "cell_type": "code",
   "execution_count": 35,
   "id": "0084ec3f",
   "metadata": {},
   "outputs": [
    {
     "name": "stdout",
     "output_type": "stream",
     "text": [
      "3159/3159 [==============================] - 43s 13ms/step\n"
     ]
    }
   ],
   "source": [
    "y_pred=model.predict(x_val)"
   ]
  },
  {
   "cell_type": "code",
   "execution_count": 37,
   "id": "e8c33a59",
   "metadata": {},
   "outputs": [],
   "source": [
    "y_pred=np.round(y_pred)"
   ]
  },
  {
   "cell_type": "code",
   "execution_count": 38,
   "id": "8796e655",
   "metadata": {},
   "outputs": [],
   "source": [
    "score = classification_report(y_val, y_pred)"
   ]
  },
  {
   "cell_type": "code",
   "execution_count": 40,
   "id": "c420d7b8",
   "metadata": {},
   "outputs": [
    {
     "name": "stdout",
     "output_type": "stream",
     "text": [
      "              precision    recall  f1-score   support\n",
      "\n",
      "           0       0.76      0.88      0.82     63770\n",
      "           1       0.72      0.54      0.61     37297\n",
      "\n",
      "    accuracy                           0.75    101067\n",
      "   macro avg       0.74      0.71      0.71    101067\n",
      "weighted avg       0.75      0.75      0.74    101067\n",
      "\n"
     ]
    }
   ],
   "source": [
    "print(score)"
   ]
  },
  {
   "cell_type": "code",
   "execution_count": null,
   "id": "4cacc9db",
   "metadata": {},
   "outputs": [],
   "source": []
  }
 ],
 "metadata": {
  "kernelspec": {
   "display_name": "Python 3 (ipykernel)",
   "language": "python",
   "name": "python3"
  },
  "language_info": {
   "codemirror_mode": {
    "name": "ipython",
    "version": 3
   },
   "file_extension": ".py",
   "mimetype": "text/x-python",
   "name": "python",
   "nbconvert_exporter": "python",
   "pygments_lexer": "ipython3",
   "version": "3.8.13"
  },
  "vscode": {
   "interpreter": {
    "hash": "25a19fbe0a9132dfb9279d48d161753c6352f8f9478c2e74383d340069b907c3"
   }
  }
 },
 "nbformat": 4,
 "nbformat_minor": 5
}
