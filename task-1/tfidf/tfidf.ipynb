{
 "cells": [
  {
   "cell_type": "code",
   "execution_count": 1,
   "metadata": {},
   "outputs": [],
   "source": [
    "import pandas as pd"
   ]
  },
  {
   "cell_type": "code",
   "execution_count": 2,
   "metadata": {},
   "outputs": [],
   "source": [
    "from sklearn.feature_extraction.text import TfidfVectorizer"
   ]
  },
  {
   "cell_type": "code",
   "execution_count": 3,
   "metadata": {},
   "outputs": [
    {
     "name": "stdout",
     "output_type": "stream",
     "text": [
      "<class 'pandas.core.frame.DataFrame'>\n",
      "RangeIndex: 404266 entries, 0 to 404265\n",
      "Data columns (total 6 columns):\n",
      " #   Column        Non-Null Count   Dtype \n",
      "---  ------        --------------   ----- \n",
      " 0   id            404266 non-null  int64 \n",
      " 1   qid1          404266 non-null  int64 \n",
      " 2   qid2          404266 non-null  int64 \n",
      " 3   question1     404266 non-null  object\n",
      " 4   question2     404266 non-null  object\n",
      " 5   is_duplicate  404266 non-null  int64 \n",
      "dtypes: int64(4), object(2)\n",
      "memory usage: 18.5+ MB\n"
     ]
    }
   ],
   "source": [
    "df=pd.read_csv(\"task-1/data/cleaned_data.csv\")\n",
    "df.info()"
   ]
  },
  {
   "cell_type": "code",
   "execution_count": 4,
   "metadata": {},
   "outputs": [
    {
     "data": {
      "text/plain": [
       "808532"
      ]
     },
     "execution_count": 4,
     "metadata": {},
     "output_type": "execute_result"
    }
   ],
   "source": [
    "all_questions = list(df['question1']) + list(df['question2'])\n",
    "len(all_questions)"
   ]
  },
  {
   "cell_type": "markdown",
   "metadata": {},
   "source": [
    "### Fit the tf-idf vectorizer on the entire dataset"
   ]
  },
  {
   "cell_type": "code",
   "execution_count": 5,
   "metadata": {},
   "outputs": [],
   "source": [
    "vectorizer = TfidfVectorizer()\n",
    "analyze = vectorizer.build_analyzer()\n",
    "transformer=vectorizer.fit(all_questions)"
   ]
  },
  {
   "cell_type": "code",
   "execution_count": 6,
   "metadata": {},
   "outputs": [
    {
     "name": "stdout",
     "output_type": "stream",
     "text": [
      "['astrology', 'am', 'capricorn', 'sun', 'cap', 'mon', 'and', 'cap', 'rising', 'what', 'does', 'that', 'say', 'about', 'me']\n"
     ]
    }
   ],
   "source": [
    "print(analyze(df.question1[5]))"
   ]
  },
  {
   "cell_type": "code",
   "execution_count": 7,
   "metadata": {},
   "outputs": [],
   "source": [
    "question1_vectors=transformer.transform(df.question1)\n",
    "question2_vectors=transformer.transform(df.question2)"
   ]
  },
  {
   "cell_type": "code",
   "execution_count": 8,
   "metadata": {},
   "outputs": [
    {
     "name": "stdout",
     "output_type": "stream",
     "text": [
      "  (0, 73845)\t0.19524384579843448\n",
      "  (0, 73377)\t0.2126029927627338\n",
      "  (0, 73250)\t0.03973961574258976\n",
      "  (0, 66251)\t0.2800466157353654\n",
      "  (0, 57525)\t0.13755533900666295\n",
      "  (0, 56882)\t0.1456295686759288\n",
      "  (0, 50198)\t0.48173920878091897\n",
      "  (0, 50134)\t0.1804132269775735\n",
      "  (0, 46604)\t0.1289884267822016\n",
      "  (0, 33543)\t0.07934649825813117\n",
      "  (0, 32131)\t0.13504292622920824\n",
      "  (0, 29787)\t0.0838855482898241\n",
      "  (0, 29289)\t0.178507331859051\n",
      "  (0, 23979)\t0.5042726994288588\n",
      "  (0, 23103)\t0.07324053384633407\n",
      "  (0, 22753)\t0.2800466157353654\n",
      "  (0, 22542)\t0.2010855218922067\n",
      "  (0, 17837)\t0.23580989070702993\n",
      "  (0, 10656)\t0.13314791871862436\n"
     ]
    }
   ],
   "source": [
    "print(question2_vectors[455])"
   ]
  },
  {
   "cell_type": "code",
   "execution_count": 42,
   "metadata": {},
   "outputs": [
    {
     "data": {
      "text/plain": [
       "404266"
      ]
     },
     "execution_count": 42,
     "metadata": {},
     "output_type": "execute_result"
    }
   ],
   "source": [
    "question1_vectors.shape[0]"
   ]
  },
  {
   "cell_type": "markdown",
   "metadata": {},
   "source": [
    "### save the generated vectors for further use"
   ]
  },
  {
   "cell_type": "code",
   "execution_count": 47,
   "metadata": {},
   "outputs": [],
   "source": [
    "import pickle\n",
    "pickle.dump(question2_vectors, open(\"task-1/data/tfidf/tfidf_question2.pkl\", \"wb\"))"
   ]
  }
 ],
 "metadata": {
  "kernelspec": {
   "display_name": "Python 3.8.10 64-bit",
   "language": "python",
   "name": "python3"
  },
  "language_info": {
   "name": "python",
   "version": "3.8.10"
  },
  "orig_nbformat": 4,
  "vscode": {
   "interpreter": {
    "hash": "916dbcbb3f70747c44a77c7bcd40155683ae19c65e1c03b4aa3499c5328201f1"
   }
  }
 },
 "nbformat": 4,
 "nbformat_minor": 2
}
