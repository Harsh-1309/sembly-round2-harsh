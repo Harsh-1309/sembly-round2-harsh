{
 "cells": [
  {
   "cell_type": "code",
   "execution_count": 54,
   "metadata": {},
   "outputs": [],
   "source": [
    "import tensorflow as tf\n",
    "import pandas as pd\n",
    "import numpy as np"
   ]
  },
  {
   "cell_type": "code",
   "execution_count": 55,
   "metadata": {},
   "outputs": [],
   "source": [
    "from tensorflow import keras \n",
    "from tensorflow.keras import layers, models, metrics\n",
    "from tensorflow.keras.models import Sequential, load_model\n",
    "from tensorflow.keras.callbacks import ModelCheckpoint\n",
    "from tensorflow.keras import optimizers\n",
    "from tensorflow.keras.layers import Dense, Input, Dropout, GRU \n",
    "from sklearn.model_selection import train_test_split\n",
    "from imblearn.combine import SMOTEENN\n",
    "from sklearn.metrics import classification_report, accuracy_score, roc_auc_score"
   ]
  },
  {
   "cell_type": "code",
   "execution_count": 56,
   "metadata": {},
   "outputs": [],
   "source": [
    "data=\"task-2/data/\"\n",
    "train_data=pd.read_csv(data+\"cleaned_data.csv\")"
   ]
  },
  {
   "cell_type": "code",
   "execution_count": 57,
   "metadata": {},
   "outputs": [
    {
     "data": {
      "text/plain": [
       "0    19910\n",
       "1     1102\n",
       "Name: WnvPresent, dtype: int64"
      ]
     },
     "execution_count": 57,
     "metadata": {},
     "output_type": "execute_result"
    }
   ],
   "source": [
    "y = train_data[\"WnvPresent\"]\n",
    "x = train_data.drop(['WnvPresent'], axis = 1)\n",
    "y.value_counts()"
   ]
  },
  {
   "cell_type": "markdown",
   "metadata": {},
   "source": [
    "### Oversample and clean using SMOTEENN"
   ]
  },
  {
   "cell_type": "code",
   "execution_count": 58,
   "metadata": {},
   "outputs": [
    {
     "data": {
      "text/plain": [
       "0    18427\n",
       "1    18135\n",
       "Name: WnvPresent, dtype: int64"
      ]
     },
     "execution_count": 58,
     "metadata": {},
     "output_type": "execute_result"
    }
   ],
   "source": [
    "smoteenn=SMOTEENN()\n",
    "x_aug ,y_aug = smoteenn.fit_resample(x, y)\n",
    "y_aug.value_counts()"
   ]
  },
  {
   "cell_type": "code",
   "execution_count": 59,
   "metadata": {},
   "outputs": [],
   "source": [
    "x_train, x_test, y_train, y_test = train_test_split(x, y, test_size = 0.2, random_state = 42)\n",
    "x_train_aug, x_test_aug, y_train_aug, y_test_aug = train_test_split(x_aug, y_aug, test_size = 0.2, random_state = 42)"
   ]
  },
  {
   "cell_type": "markdown",
   "metadata": {},
   "source": [
    "### Build and train GRU model"
   ]
  },
  {
   "cell_type": "code",
   "execution_count": 60,
   "metadata": {},
   "outputs": [],
   "source": [
    "model=Sequential()"
   ]
  },
  {
   "cell_type": "code",
   "execution_count": 61,
   "metadata": {},
   "outputs": [
    {
     "data": {
      "text/plain": [
       "(16809, 20)"
      ]
     },
     "execution_count": 61,
     "metadata": {},
     "output_type": "execute_result"
    }
   ],
   "source": [
    "x_train.shape"
   ]
  },
  {
   "cell_type": "code",
   "execution_count": 62,
   "metadata": {},
   "outputs": [
    {
     "name": "stdout",
     "output_type": "stream",
     "text": [
      "WARNING:tensorflow:Layer gru_3 will not use cuDNN kernels since it doesn't meet the criteria. It will use a generic GPU kernel as fallback when running on GPU.\n"
     ]
    }
   ],
   "source": [
    "# model.add(Input(20,))\n",
    "model.add(GRU(256,activation=\"relu\",input_shape=(20,1,)))\n",
    "model.add(Dense(128,activation=\"relu\"))\n",
    "model.add(Dense(32,activation=\"relu\"))\n",
    "model.add(Dense(1,activation=\"sigmoid\"))"
   ]
  },
  {
   "cell_type": "code",
   "execution_count": 63,
   "metadata": {},
   "outputs": [
    {
     "name": "stdout",
     "output_type": "stream",
     "text": [
      "Model: \"sequential_4\"\n",
      "_________________________________________________________________\n",
      " Layer (type)                Output Shape              Param #   \n",
      "=================================================================\n",
      " gru_3 (GRU)                 (None, 256)               198912    \n",
      "                                                                 \n",
      " dense_12 (Dense)            (None, 128)               32896     \n",
      "                                                                 \n",
      " dense_13 (Dense)            (None, 32)                4128      \n",
      "                                                                 \n",
      " dense_14 (Dense)            (None, 1)                 33        \n",
      "                                                                 \n",
      "=================================================================\n",
      "Total params: 235,969\n",
      "Trainable params: 235,969\n",
      "Non-trainable params: 0\n",
      "_________________________________________________________________\n"
     ]
    }
   ],
   "source": [
    "model.summary()"
   ]
  },
  {
   "cell_type": "code",
   "execution_count": 64,
   "metadata": {},
   "outputs": [],
   "source": [
    "model.compile(\n",
    "    optimizer=\"Adam\",\n",
    "    loss=\"binary_crossentropy\",\n",
    "    metrics=[\"accuracy\"]\n",
    ")"
   ]
  },
  {
   "cell_type": "code",
   "execution_count": 65,
   "metadata": {},
   "outputs": [],
   "source": [
    "callbacks = [\n",
    "        tf.keras.callbacks.ModelCheckpoint(\n",
    "            filepath=\"task-2/saved_models/ANN\",\n",
    "            monitor='val_loss', \n",
    "            mode='min', \n",
    "            save_best_only=True,\n",
    "            verbose=1\n",
    "        )\n",
    "]"
   ]
  },
  {
   "cell_type": "code",
   "execution_count": 67,
   "metadata": {},
   "outputs": [
    {
     "name": "stdout",
     "output_type": "stream",
     "text": [
      "Epoch 1/20\n",
      "262/263 [============================>.] - ETA: 0s - loss: 0.1754 - accuracy: 0.9473\n",
      "Epoch 1: val_loss improved from 0.17433 to 0.17298, saving model to task-2/saved_models/ANN\n",
      "INFO:tensorflow:Assets written to: task-2/saved_models/ANN/assets\n",
      "263/263 [==============================] - 15s 56ms/step - loss: 0.1752 - accuracy: 0.9474 - val_loss: 0.1730 - val_accuracy: 0.9477\n",
      "Epoch 2/20\n",
      "263/263 [==============================] - ETA: 0s - loss: 0.1719 - accuracy: 0.9473\n",
      "Epoch 2: val_loss did not improve from 0.17298\n",
      "263/263 [==============================] - 13s 48ms/step - loss: 0.1719 - accuracy: 0.9473 - val_loss: 0.1791 - val_accuracy: 0.9477\n",
      "Epoch 3/20\n",
      "263/263 [==============================] - ETA: 0s - loss: 0.1730 - accuracy: 0.9471\n",
      "Epoch 3: val_loss did not improve from 0.17298\n",
      "263/263 [==============================] - 13s 49ms/step - loss: 0.1730 - accuracy: 0.9471 - val_loss: 0.1762 - val_accuracy: 0.9453\n",
      "Epoch 4/20\n",
      "263/263 [==============================] - ETA: 0s - loss: 0.1707 - accuracy: 0.9479\n",
      "Epoch 4: val_loss improved from 0.17298 to 0.16972, saving model to task-2/saved_models/ANN\n",
      "INFO:tensorflow:Assets written to: task-2/saved_models/ANN/assets\n",
      "263/263 [==============================] - 17s 63ms/step - loss: 0.1707 - accuracy: 0.9479 - val_loss: 0.1697 - val_accuracy: 0.9472\n",
      "Epoch 5/20\n",
      "263/263 [==============================] - ETA: 0s - loss: 0.1688 - accuracy: 0.9479\n",
      "Epoch 5: val_loss did not improve from 0.16972\n",
      "263/263 [==============================] - 13s 50ms/step - loss: 0.1688 - accuracy: 0.9479 - val_loss: 0.1714 - val_accuracy: 0.9465\n",
      "Epoch 6/20\n",
      "263/263 [==============================] - ETA: 0s - loss: 0.1782 - accuracy: 0.9471\n",
      "Epoch 6: val_loss did not improve from 0.16972\n",
      "263/263 [==============================] - 14s 52ms/step - loss: 0.1782 - accuracy: 0.9471 - val_loss: 0.1958 - val_accuracy: 0.9450\n",
      "Epoch 7/20\n",
      "263/263 [==============================] - ETA: 0s - loss: 0.1713 - accuracy: 0.9478\n",
      "Epoch 7: val_loss did not improve from 0.16972\n",
      "263/263 [==============================] - 14s 52ms/step - loss: 0.1713 - accuracy: 0.9478 - val_loss: 0.1819 - val_accuracy: 0.9477\n",
      "Epoch 8/20\n",
      "263/263 [==============================] - ETA: 0s - loss: 0.1702 - accuracy: 0.9475\n",
      "Epoch 8: val_loss did not improve from 0.16972\n",
      "263/263 [==============================] - 14s 52ms/step - loss: 0.1702 - accuracy: 0.9475 - val_loss: 0.1777 - val_accuracy: 0.9477\n",
      "Epoch 9/20\n",
      "262/263 [============================>.] - ETA: 0s - loss: 0.1666 - accuracy: 0.9476\n",
      "Epoch 9: val_loss did not improve from 0.16972\n",
      "263/263 [==============================] - 14s 54ms/step - loss: 0.1664 - accuracy: 0.9476 - val_loss: 0.1706 - val_accuracy: 0.9472\n",
      "Epoch 10/20\n",
      "263/263 [==============================] - ETA: 0s - loss: 0.1676 - accuracy: 0.9472\n",
      "Epoch 10: val_loss improved from 0.16972 to 0.16815, saving model to task-2/saved_models/ANN\n",
      "INFO:tensorflow:Assets written to: task-2/saved_models/ANN/assets\n",
      "263/263 [==============================] - 17s 65ms/step - loss: 0.1676 - accuracy: 0.9472 - val_loss: 0.1681 - val_accuracy: 0.9479\n",
      "Epoch 11/20\n",
      "263/263 [==============================] - ETA: 0s - loss: 0.1668 - accuracy: 0.9472\n",
      "Epoch 11: val_loss improved from 0.16815 to 0.16812, saving model to task-2/saved_models/ANN\n",
      "INFO:tensorflow:Assets written to: task-2/saved_models/ANN/assets\n",
      "263/263 [==============================] - 16s 63ms/step - loss: 0.1668 - accuracy: 0.9472 - val_loss: 0.1681 - val_accuracy: 0.9474\n",
      "Epoch 12/20\n",
      "263/263 [==============================] - ETA: 0s - loss: 0.1712 - accuracy: 0.9467\n",
      "Epoch 12: val_loss did not improve from 0.16812\n",
      "263/263 [==============================] - 14s 52ms/step - loss: 0.1712 - accuracy: 0.9467 - val_loss: 0.1717 - val_accuracy: 0.9477\n",
      "Epoch 13/20\n",
      "262/263 [============================>.] - ETA: 0s - loss: 0.1679 - accuracy: 0.9471\n",
      "Epoch 13: val_loss did not improve from 0.16812\n",
      "263/263 [==============================] - 14s 54ms/step - loss: 0.1679 - accuracy: 0.9471 - val_loss: 0.1721 - val_accuracy: 0.9469\n",
      "Epoch 14/20\n",
      "262/263 [============================>.] - ETA: 0s - loss: 0.1651 - accuracy: 0.9476\n",
      "Epoch 14: val_loss did not improve from 0.16812\n",
      "263/263 [==============================] - 14s 53ms/step - loss: 0.1651 - accuracy: 0.9475 - val_loss: 0.1707 - val_accuracy: 0.9479\n",
      "Epoch 15/20\n",
      "263/263 [==============================] - ETA: 0s - loss: 0.1662 - accuracy: 0.9477\n",
      "Epoch 15: val_loss did not improve from 0.16812\n",
      "263/263 [==============================] - 14s 54ms/step - loss: 0.1662 - accuracy: 0.9477 - val_loss: 0.1708 - val_accuracy: 0.9479\n",
      "Epoch 16/20\n",
      "263/263 [==============================] - ETA: 0s - loss: 0.1649 - accuracy: 0.9480\n",
      "Epoch 16: val_loss did not improve from 0.16812\n",
      "263/263 [==============================] - 15s 56ms/step - loss: 0.1649 - accuracy: 0.9480 - val_loss: 0.1712 - val_accuracy: 0.9477\n",
      "Epoch 17/20\n",
      "263/263 [==============================] - ETA: 0s - loss: 0.1649 - accuracy: 0.9474\n",
      "Epoch 17: val_loss did not improve from 0.16812\n",
      "263/263 [==============================] - 14s 54ms/step - loss: 0.1649 - accuracy: 0.9474 - val_loss: 0.1714 - val_accuracy: 0.9467\n",
      "Epoch 18/20\n",
      "262/263 [============================>.] - ETA: 0s - loss: 0.1639 - accuracy: 0.9470\n",
      "Epoch 18: val_loss did not improve from 0.16812\n",
      "263/263 [==============================] - 17s 63ms/step - loss: 0.1636 - accuracy: 0.9471 - val_loss: 0.1703 - val_accuracy: 0.9477\n",
      "Epoch 19/20\n",
      "263/263 [==============================] - ETA: 0s - loss: 0.1621 - accuracy: 0.9475\n",
      "Epoch 19: val_loss did not improve from 0.16812\n",
      "263/263 [==============================] - 15s 55ms/step - loss: 0.1621 - accuracy: 0.9475 - val_loss: 0.1719 - val_accuracy: 0.9469\n",
      "Epoch 20/20\n",
      "263/263 [==============================] - ETA: 0s - loss: 0.1610 - accuracy: 0.9478\n",
      "Epoch 20: val_loss did not improve from 0.16812\n",
      "263/263 [==============================] - 15s 55ms/step - loss: 0.1610 - accuracy: 0.9478 - val_loss: 0.1709 - val_accuracy: 0.9453\n"
     ]
    }
   ],
   "source": [
    "history=model.fit(x_train,y_train,validation_data=(x_test,y_test),epochs=20,batch_size=64,callbacks=callbacks)"
   ]
  },
  {
   "cell_type": "code",
   "execution_count": 68,
   "metadata": {},
   "outputs": [
    {
     "name": "stdout",
     "output_type": "stream",
     "text": [
      "132/132 [==============================] - 1s 8ms/step\n"
     ]
    }
   ],
   "source": [
    "y_pred=model.predict(x_test)\n",
    "y_pred=np.round(y_pred)\n",
    "score = classification_report(y_test, y_pred)"
   ]
  },
  {
   "cell_type": "code",
   "execution_count": 69,
   "metadata": {},
   "outputs": [
    {
     "name": "stdout",
     "output_type": "stream",
     "text": [
      "              precision    recall  f1-score   support\n",
      "\n",
      "           0       0.95      0.99      0.97      3983\n",
      "           1       0.38      0.07      0.12       220\n",
      "\n",
      "    accuracy                           0.95      4203\n",
      "   macro avg       0.67      0.53      0.55      4203\n",
      "weighted avg       0.92      0.95      0.93      4203\n",
      "\n",
      "0.5330997649099583\n"
     ]
    }
   ],
   "source": [
    "print(score)\n",
    "print(roc_auc_score(y_test,y_pred))"
   ]
  },
  {
   "cell_type": "code",
   "execution_count": 85,
   "metadata": {},
   "outputs": [
    {
     "name": "stdout",
     "output_type": "stream",
     "text": [
      "WARNING:tensorflow:Layer gru_8 will not use cuDNN kernels since it doesn't meet the criteria. It will use a generic GPU kernel as fallback when running on GPU.\n"
     ]
    }
   ],
   "source": [
    "model_aug=Sequential()\n",
    "\n",
    "# model.add(Input(20,))\n",
    "model_aug.add(GRU(256,activation=\"relu\",input_shape=(20,1,)))\n",
    "model_aug.add(Dense(128,activation=\"relu\"))\n",
    "model_aug.add(Dense(32,activation=\"relu\"))\n",
    "model_aug.add(Dense(1,activation=\"sigmoid\"))\n",
    "\n",
    "model_aug.compile(\n",
    "    optimizer=\"Adam\",\n",
    "    loss=\"binary_crossentropy\",\n",
    "    metrics=[\"accuracy\"]\n",
    ")\n",
    "\n",
    "callbacks_aug = [\n",
    "        tf.keras.callbacks.ModelCheckpoint(\n",
    "            filepath=\"task-2/saved_models/ANN_aug\",\n",
    "            monitor='val_loss', \n",
    "            mode='min', \n",
    "            save_best_only=True,\n",
    "            verbose=1\n",
    "        )\n",
    "]"
   ]
  },
  {
   "cell_type": "code",
   "execution_count": 86,
   "metadata": {},
   "outputs": [
    {
     "name": "stdout",
     "output_type": "stream",
     "text": [
      "Epoch 1/50\n",
      "458/458 [==============================] - ETA: 0s - loss: 0.6753 - accuracy: 0.6784\n",
      "Epoch 1: val_loss improved from inf to 0.70694, saving model to task-2/saved_models/ANN_aug\n",
      "INFO:tensorflow:Assets written to: task-2/saved_models/ANN_aug/assets\n",
      "458/458 [==============================] - 29s 58ms/step - loss: 0.6753 - accuracy: 0.6784 - val_loss: 0.7069 - val_accuracy: 0.7213\n",
      "Epoch 2/50\n",
      "458/458 [==============================] - ETA: 0s - loss: 0.5571 - accuracy: 0.7294\n",
      "Epoch 2: val_loss improved from 0.70694 to 0.51792, saving model to task-2/saved_models/ANN_aug\n",
      "INFO:tensorflow:Assets written to: task-2/saved_models/ANN_aug/assets\n",
      "458/458 [==============================] - 27s 59ms/step - loss: 0.5571 - accuracy: 0.7294 - val_loss: 0.5179 - val_accuracy: 0.7503\n",
      "Epoch 3/50\n",
      "458/458 [==============================] - ETA: 0s - loss: 0.5136 - accuracy: 0.7548\n",
      "Epoch 3: val_loss did not improve from 0.51792\n",
      "458/458 [==============================] - 25s 54ms/step - loss: 0.5136 - accuracy: 0.7548 - val_loss: 1.1683 - val_accuracy: 0.5076\n",
      "Epoch 4/50\n",
      "457/458 [============================>.] - ETA: 0s - loss: 0.4755 - accuracy: 0.7778\n",
      "Epoch 4: val_loss improved from 0.51792 to 0.43716, saving model to task-2/saved_models/ANN_aug\n",
      "INFO:tensorflow:Assets written to: task-2/saved_models/ANN_aug/assets\n",
      "458/458 [==============================] - 29s 62ms/step - loss: 0.4755 - accuracy: 0.7778 - val_loss: 0.4372 - val_accuracy: 0.8014\n",
      "Epoch 5/50\n",
      "458/458 [==============================] - ETA: 0s - loss: 0.4299 - accuracy: 0.8051\n",
      "Epoch 5: val_loss did not improve from 0.43716\n",
      "458/458 [==============================] - 27s 59ms/step - loss: 0.4299 - accuracy: 0.8051 - val_loss: 0.5306 - val_accuracy: 0.7705\n",
      "Epoch 6/50\n",
      "458/458 [==============================] - ETA: 0s - loss: 0.4040 - accuracy: 0.8203\n",
      "Epoch 6: val_loss improved from 0.43716 to 0.35982, saving model to task-2/saved_models/ANN_aug\n",
      "INFO:tensorflow:Assets written to: task-2/saved_models/ANN_aug/assets\n",
      "458/458 [==============================] - 31s 69ms/step - loss: 0.4040 - accuracy: 0.8203 - val_loss: 0.3598 - val_accuracy: 0.8367\n",
      "Epoch 7/50\n",
      "458/458 [==============================] - ETA: 0s - loss: 0.3627 - accuracy: 0.8403\n",
      "Epoch 7: val_loss did not improve from 0.35982\n",
      "458/458 [==============================] - 28s 60ms/step - loss: 0.3627 - accuracy: 0.8403 - val_loss: 0.3692 - val_accuracy: 0.8298\n",
      "Epoch 8/50\n",
      "458/458 [==============================] - ETA: 0s - loss: 0.3384 - accuracy: 0.8539\n",
      "Epoch 8: val_loss did not improve from 0.35982\n",
      "458/458 [==============================] - 28s 62ms/step - loss: 0.3384 - accuracy: 0.8539 - val_loss: 0.4519 - val_accuracy: 0.8006\n",
      "Epoch 9/50\n",
      "458/458 [==============================] - ETA: 0s - loss: 0.3802 - accuracy: 0.8308\n",
      "Epoch 9: val_loss did not improve from 0.35982\n",
      "458/458 [==============================] - 27s 60ms/step - loss: 0.3802 - accuracy: 0.8308 - val_loss: 0.4241 - val_accuracy: 0.8009\n",
      "Epoch 10/50\n",
      "458/458 [==============================] - ETA: 0s - loss: 0.3236 - accuracy: 0.8636\n",
      "Epoch 10: val_loss improved from 0.35982 to 0.30640, saving model to task-2/saved_models/ANN_aug\n",
      "INFO:tensorflow:Assets written to: task-2/saved_models/ANN_aug/assets\n",
      "458/458 [==============================] - 32s 70ms/step - loss: 0.3236 - accuracy: 0.8636 - val_loss: 0.3064 - val_accuracy: 0.8780\n",
      "Epoch 11/50\n",
      "458/458 [==============================] - ETA: 0s - loss: 0.2947 - accuracy: 0.8783\n",
      "Epoch 11: val_loss did not improve from 0.30640\n",
      "458/458 [==============================] - 27s 59ms/step - loss: 0.2947 - accuracy: 0.8783 - val_loss: 0.4668 - val_accuracy: 0.7848\n",
      "Epoch 12/50\n",
      "458/458 [==============================] - ETA: 0s - loss: 0.3157 - accuracy: 0.8664\n",
      "Epoch 12: val_loss did not improve from 0.30640\n",
      "458/458 [==============================] - 29s 63ms/step - loss: 0.3157 - accuracy: 0.8664 - val_loss: 0.3273 - val_accuracy: 0.8683\n",
      "Epoch 13/50\n",
      "458/458 [==============================] - ETA: 0s - loss: 0.2438 - accuracy: 0.9018\n",
      "Epoch 13: val_loss improved from 0.30640 to 0.23516, saving model to task-2/saved_models/ANN_aug\n",
      "INFO:tensorflow:Assets written to: task-2/saved_models/ANN_aug/assets\n",
      "458/458 [==============================] - 31s 68ms/step - loss: 0.2438 - accuracy: 0.9018 - val_loss: 0.2352 - val_accuracy: 0.9029\n",
      "Epoch 14/50\n",
      "458/458 [==============================] - ETA: 0s - loss: 0.2483 - accuracy: 0.8990\n",
      "Epoch 14: val_loss improved from 0.23516 to 0.21108, saving model to task-2/saved_models/ANN_aug\n",
      "INFO:tensorflow:Assets written to: task-2/saved_models/ANN_aug/assets\n",
      "458/458 [==============================] - 31s 67ms/step - loss: 0.2483 - accuracy: 0.8990 - val_loss: 0.2111 - val_accuracy: 0.9133\n",
      "Epoch 15/50\n",
      "458/458 [==============================] - ETA: 0s - loss: 0.2071 - accuracy: 0.9164\n",
      "Epoch 15: val_loss did not improve from 0.21108\n",
      "458/458 [==============================] - 28s 62ms/step - loss: 0.2071 - accuracy: 0.9164 - val_loss: 0.2142 - val_accuracy: 0.9097\n",
      "Epoch 16/50\n",
      "458/458 [==============================] - ETA: 0s - loss: 0.1947 - accuracy: 0.9238\n",
      "Epoch 16: val_loss improved from 0.21108 to 0.18005, saving model to task-2/saved_models/ANN_aug\n",
      "INFO:tensorflow:Assets written to: task-2/saved_models/ANN_aug/assets\n",
      "458/458 [==============================] - 31s 67ms/step - loss: 0.1947 - accuracy: 0.9238 - val_loss: 0.1801 - val_accuracy: 0.9312\n",
      "Epoch 17/50\n",
      "458/458 [==============================] - ETA: 0s - loss: 0.1810 - accuracy: 0.9291\n",
      "Epoch 17: val_loss did not improve from 0.18005\n",
      "458/458 [==============================] - 27s 58ms/step - loss: 0.1810 - accuracy: 0.9291 - val_loss: 0.2587 - val_accuracy: 0.8881\n",
      "Epoch 18/50\n",
      "458/458 [==============================] - ETA: 0s - loss: 0.2097 - accuracy: 0.9205\n",
      "Epoch 18: val_loss did not improve from 0.18005\n",
      "458/458 [==============================] - 27s 58ms/step - loss: 0.2097 - accuracy: 0.9205 - val_loss: 0.2028 - val_accuracy: 0.9197\n",
      "Epoch 19/50\n",
      "458/458 [==============================] - ETA: 0s - loss: 0.1630 - accuracy: 0.9355\n",
      "Epoch 19: val_loss improved from 0.18005 to 0.17190, saving model to task-2/saved_models/ANN_aug\n",
      "INFO:tensorflow:Assets written to: task-2/saved_models/ANN_aug/assets\n",
      "458/458 [==============================] - 30s 66ms/step - loss: 0.1630 - accuracy: 0.9355 - val_loss: 0.1719 - val_accuracy: 0.9353\n",
      "Epoch 20/50\n",
      "458/458 [==============================] - ETA: 0s - loss: 0.1408 - accuracy: 0.9455\n",
      "Epoch 20: val_loss improved from 0.17190 to 0.12314, saving model to task-2/saved_models/ANN_aug\n",
      "INFO:tensorflow:Assets written to: task-2/saved_models/ANN_aug/assets\n",
      "458/458 [==============================] - 30s 66ms/step - loss: 0.1408 - accuracy: 0.9455 - val_loss: 0.1231 - val_accuracy: 0.9519\n",
      "Epoch 21/50\n",
      "457/458 [============================>.] - ETA: 0s - loss: 0.1370 - accuracy: 0.9468\n",
      "Epoch 21: val_loss did not improve from 0.12314\n",
      "458/458 [==============================] - 28s 62ms/step - loss: 0.1370 - accuracy: 0.9468 - val_loss: 0.1288 - val_accuracy: 0.9541\n",
      "Epoch 22/50\n",
      "457/458 [============================>.] - ETA: 0s - loss: 0.1266 - accuracy: 0.9510\n",
      "Epoch 22: val_loss did not improve from 0.12314\n",
      "458/458 [==============================] - 26s 56ms/step - loss: 0.1266 - accuracy: 0.9510 - val_loss: 0.1630 - val_accuracy: 0.9350\n",
      "Epoch 23/50\n",
      "457/458 [============================>.] - ETA: 0s - loss: 0.1253 - accuracy: 0.9534\n",
      "Epoch 23: val_loss did not improve from 0.12314\n",
      "458/458 [==============================] - 22s 47ms/step - loss: 0.1253 - accuracy: 0.9534 - val_loss: 0.1328 - val_accuracy: 0.9497\n",
      "Epoch 24/50\n",
      "457/458 [============================>.] - ETA: 0s - loss: 0.1191 - accuracy: 0.9553\n",
      "Epoch 24: val_loss improved from 0.12314 to 0.11822, saving model to task-2/saved_models/ANN_aug\n",
      "INFO:tensorflow:Assets written to: task-2/saved_models/ANN_aug/assets\n",
      "458/458 [==============================] - 24s 52ms/step - loss: 0.1190 - accuracy: 0.9553 - val_loss: 0.1182 - val_accuracy: 0.9568\n",
      "Epoch 25/50\n",
      "457/458 [============================>.] - ETA: 0s - loss: 0.1122 - accuracy: 0.9569\n",
      "Epoch 25: val_loss did not improve from 0.11822\n",
      "458/458 [==============================] - 20s 45ms/step - loss: 0.1122 - accuracy: 0.9569 - val_loss: 0.1609 - val_accuracy: 0.9431\n",
      "Epoch 26/50\n",
      "457/458 [============================>.] - ETA: 0s - loss: 0.1073 - accuracy: 0.9599\n",
      "Epoch 26: val_loss did not improve from 0.11822\n",
      "458/458 [==============================] - 20s 43ms/step - loss: 0.1073 - accuracy: 0.9599 - val_loss: 0.1214 - val_accuracy: 0.9524\n",
      "Epoch 27/50\n",
      "458/458 [==============================] - ETA: 0s - loss: 0.0983 - accuracy: 0.9614\n",
      "Epoch 27: val_loss improved from 0.11822 to 0.11363, saving model to task-2/saved_models/ANN_aug\n",
      "INFO:tensorflow:Assets written to: task-2/saved_models/ANN_aug/assets\n",
      "458/458 [==============================] - 22s 49ms/step - loss: 0.0983 - accuracy: 0.9614 - val_loss: 0.1136 - val_accuracy: 0.9582\n",
      "Epoch 28/50\n",
      "458/458 [==============================] - ETA: 0s - loss: 0.0991 - accuracy: 0.9629\n",
      "Epoch 28: val_loss improved from 0.11363 to 0.09728, saving model to task-2/saved_models/ANN_aug\n",
      "INFO:tensorflow:Assets written to: task-2/saved_models/ANN_aug/assets\n",
      "458/458 [==============================] - 24s 51ms/step - loss: 0.0991 - accuracy: 0.9629 - val_loss: 0.0973 - val_accuracy: 0.9632\n",
      "Epoch 29/50\n",
      "458/458 [==============================] - ETA: 0s - loss: 0.0922 - accuracy: 0.9645\n",
      "Epoch 29: val_loss did not improve from 0.09728\n",
      "458/458 [==============================] - 22s 47ms/step - loss: 0.0922 - accuracy: 0.9645 - val_loss: 0.1247 - val_accuracy: 0.9524\n",
      "Epoch 30/50\n",
      "458/458 [==============================] - ETA: 0s - loss: 0.1017 - accuracy: 0.9612\n",
      "Epoch 30: val_loss did not improve from 0.09728\n",
      "458/458 [==============================] - 20s 45ms/step - loss: 0.1017 - accuracy: 0.9612 - val_loss: 0.1070 - val_accuracy: 0.9599\n",
      "Epoch 31/50\n",
      "457/458 [============================>.] - ETA: 0s - loss: 0.0866 - accuracy: 0.9664\n",
      "Epoch 31: val_loss improved from 0.09728 to 0.09439, saving model to task-2/saved_models/ANN_aug\n",
      "INFO:tensorflow:Assets written to: task-2/saved_models/ANN_aug/assets\n",
      "458/458 [==============================] - 22s 48ms/step - loss: 0.0866 - accuracy: 0.9664 - val_loss: 0.0944 - val_accuracy: 0.9643\n",
      "Epoch 32/50\n",
      "458/458 [==============================] - ETA: 0s - loss: 0.0826 - accuracy: 0.9675\n",
      "Epoch 32: val_loss improved from 0.09439 to 0.08744, saving model to task-2/saved_models/ANN_aug\n",
      "INFO:tensorflow:Assets written to: task-2/saved_models/ANN_aug/assets\n",
      "458/458 [==============================] - 22s 48ms/step - loss: 0.0826 - accuracy: 0.9675 - val_loss: 0.0874 - val_accuracy: 0.9683\n",
      "Epoch 33/50\n",
      "458/458 [==============================] - ETA: 0s - loss: 0.0762 - accuracy: 0.9707\n",
      "Epoch 33: val_loss did not improve from 0.08744\n",
      "458/458 [==============================] - 19s 42ms/step - loss: 0.0762 - accuracy: 0.9707 - val_loss: 0.1548 - val_accuracy: 0.9505\n",
      "Epoch 34/50\n",
      "458/458 [==============================] - ETA: 0s - loss: 0.0790 - accuracy: 0.9690\n",
      "Epoch 34: val_loss did not improve from 0.08744\n",
      "458/458 [==============================] - 20s 44ms/step - loss: 0.0790 - accuracy: 0.9690 - val_loss: 0.1040 - val_accuracy: 0.9601\n",
      "Epoch 35/50\n",
      "458/458 [==============================] - ETA: 0s - loss: 0.0785 - accuracy: 0.9711\n",
      "Epoch 35: val_loss improved from 0.08744 to 0.07255, saving model to task-2/saved_models/ANN_aug\n",
      "INFO:tensorflow:Assets written to: task-2/saved_models/ANN_aug/assets\n",
      "458/458 [==============================] - 24s 52ms/step - loss: 0.0785 - accuracy: 0.9711 - val_loss: 0.0725 - val_accuracy: 0.9740\n",
      "Epoch 36/50\n",
      "457/458 [============================>.] - ETA: 0s - loss: 0.0712 - accuracy: 0.9721\n",
      "Epoch 36: val_loss did not improve from 0.07255\n",
      "458/458 [==============================] - 24s 53ms/step - loss: 0.0712 - accuracy: 0.9721 - val_loss: 0.1194 - val_accuracy: 0.9550\n",
      "Epoch 37/50\n",
      "457/458 [============================>.] - ETA: 0s - loss: 0.0791 - accuracy: 0.9697\n",
      "Epoch 37: val_loss did not improve from 0.07255\n",
      "458/458 [==============================] - 24s 53ms/step - loss: 0.0791 - accuracy: 0.9697 - val_loss: 0.0767 - val_accuracy: 0.9733\n",
      "Epoch 38/50\n",
      "457/458 [============================>.] - ETA: 0s - loss: 0.0678 - accuracy: 0.9730\n",
      "Epoch 38: val_loss did not improve from 0.07255\n",
      "458/458 [==============================] - 24s 52ms/step - loss: 0.0679 - accuracy: 0.9730 - val_loss: 0.0983 - val_accuracy: 0.9627\n",
      "Epoch 39/50\n",
      "458/458 [==============================] - ETA: 0s - loss: 0.2953 - accuracy: 0.8772\n",
      "Epoch 39: val_loss did not improve from 0.07255\n",
      "458/458 [==============================] - 26s 56ms/step - loss: 0.2953 - accuracy: 0.8772 - val_loss: 0.1938 - val_accuracy: 0.9232\n",
      "Epoch 40/50\n",
      "458/458 [==============================] - ETA: 0s - loss: 0.1472 - accuracy: 0.9428\n",
      "Epoch 40: val_loss did not improve from 0.07255\n",
      "458/458 [==============================] - 25s 54ms/step - loss: 0.1472 - accuracy: 0.9428 - val_loss: 0.1412 - val_accuracy: 0.9448\n",
      "Epoch 41/50\n",
      "458/458 [==============================] - ETA: 0s - loss: 0.0999 - accuracy: 0.9623\n",
      "Epoch 41: val_loss did not improve from 0.07255\n",
      "458/458 [==============================] - 25s 55ms/step - loss: 0.0999 - accuracy: 0.9623 - val_loss: 0.1124 - val_accuracy: 0.9609\n",
      "Epoch 42/50\n",
      "458/458 [==============================] - ETA: 0s - loss: 0.0845 - accuracy: 0.9688\n",
      "Epoch 42: val_loss did not improve from 0.07255\n",
      "458/458 [==============================] - 25s 55ms/step - loss: 0.0845 - accuracy: 0.9688 - val_loss: 0.1141 - val_accuracy: 0.9576\n",
      "Epoch 43/50\n",
      "457/458 [============================>.] - ETA: 0s - loss: 0.0762 - accuracy: 0.9707\n",
      "Epoch 43: val_loss did not improve from 0.07255\n",
      "458/458 [==============================] - 25s 54ms/step - loss: 0.0762 - accuracy: 0.9707 - val_loss: 0.1177 - val_accuracy: 0.9584\n",
      "Epoch 44/50\n",
      "457/458 [============================>.] - ETA: 0s - loss: 0.0701 - accuracy: 0.9736\n",
      "Epoch 44: val_loss did not improve from 0.07255\n",
      "458/458 [==============================] - 25s 54ms/step - loss: 0.0701 - accuracy: 0.9736 - val_loss: 0.0772 - val_accuracy: 0.9673\n",
      "Epoch 45/50\n",
      "458/458 [==============================] - ETA: 0s - loss: 0.0721 - accuracy: 0.9739\n",
      "Epoch 45: val_loss did not improve from 0.07255\n",
      "458/458 [==============================] - 24s 53ms/step - loss: 0.0721 - accuracy: 0.9739 - val_loss: 0.1157 - val_accuracy: 0.9601\n",
      "Epoch 46/50\n",
      "458/458 [==============================] - ETA: 0s - loss: 0.0663 - accuracy: 0.9744\n",
      "Epoch 46: val_loss did not improve from 0.07255\n",
      "458/458 [==============================] - 25s 54ms/step - loss: 0.0663 - accuracy: 0.9744 - val_loss: 0.0976 - val_accuracy: 0.9627\n",
      "Epoch 47/50\n",
      "458/458 [==============================] - ETA: 0s - loss: 0.0633 - accuracy: 0.9760\n",
      "Epoch 47: val_loss did not improve from 0.07255\n",
      "458/458 [==============================] - 25s 54ms/step - loss: 0.0633 - accuracy: 0.9760 - val_loss: 0.0727 - val_accuracy: 0.9722\n",
      "Epoch 48/50\n",
      "458/458 [==============================] - ETA: 0s - loss: 0.0601 - accuracy: 0.9775\n",
      "Epoch 48: val_loss improved from 0.07255 to 0.07072, saving model to task-2/saved_models/ANN_aug\n",
      "INFO:tensorflow:Assets written to: task-2/saved_models/ANN_aug/assets\n",
      "458/458 [==============================] - 29s 63ms/step - loss: 0.0601 - accuracy: 0.9775 - val_loss: 0.0707 - val_accuracy: 0.9761\n",
      "Epoch 49/50\n",
      "458/458 [==============================] - ETA: 0s - loss: 0.0676 - accuracy: 0.9744\n",
      "Epoch 49: val_loss did not improve from 0.07072\n",
      "458/458 [==============================] - 25s 55ms/step - loss: 0.0676 - accuracy: 0.9744 - val_loss: 0.0911 - val_accuracy: 0.9676\n",
      "Epoch 50/50\n",
      "458/458 [==============================] - ETA: 0s - loss: 0.0588 - accuracy: 0.9770\n",
      "Epoch 50: val_loss did not improve from 0.07072\n",
      "458/458 [==============================] - 26s 56ms/step - loss: 0.0588 - accuracy: 0.9770 - val_loss: 0.0763 - val_accuracy: 0.9732\n"
     ]
    }
   ],
   "source": [
    "history_aug=model_aug.fit(x_train_aug,y_train_aug,validation_data=(x_test_aug,y_test_aug),epochs=50,batch_size=64,callbacks=callbacks_aug)"
   ]
  },
  {
   "cell_type": "code",
   "execution_count": 87,
   "metadata": {},
   "outputs": [
    {
     "name": "stdout",
     "output_type": "stream",
     "text": [
      "229/229 [==============================] - 2s 7ms/step\n",
      "              precision    recall  f1-score   support\n",
      "\n",
      "           0       0.99      0.96      0.97      3648\n",
      "           1       0.96      0.99      0.97      3665\n",
      "\n",
      "    accuracy                           0.97      7313\n",
      "   macro avg       0.97      0.97      0.97      7313\n",
      "weighted avg       0.97      0.97      0.97      7313\n",
      "\n"
     ]
    }
   ],
   "source": [
    "y_pred_aug=model_aug.predict(x_test_aug)\n",
    "y_pred_aug=np.round(y_pred_aug)\n",
    "score_aug = classification_report(y_test_aug, y_pred_aug)\n",
    "print(score_aug)"
   ]
  },
  {
   "cell_type": "code",
   "execution_count": 88,
   "metadata": {},
   "outputs": [
    {
     "data": {
      "text/plain": [
       "0.9731601236207845"
      ]
     },
     "execution_count": 88,
     "metadata": {},
     "output_type": "execute_result"
    }
   ],
   "source": [
    "roc_auc_score(y_test_aug,y_pred_aug)"
   ]
  }
 ],
 "metadata": {
  "kernelspec": {
   "display_name": "Python 3.8.10 64-bit",
   "language": "python",
   "name": "python3"
  },
  "language_info": {
   "name": "python",
   "version": "3.8.10"
  },
  "orig_nbformat": 4,
  "vscode": {
   "interpreter": {
    "hash": "916dbcbb3f70747c44a77c7bcd40155683ae19c65e1c03b4aa3499c5328201f1"
   }
  }
 },
 "nbformat": 4,
 "nbformat_minor": 2
}
